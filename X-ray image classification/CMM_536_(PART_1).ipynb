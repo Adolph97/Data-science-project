{
 "cells": [
  {
   "cell_type": "markdown",
   "metadata": {
    "id": "12hmLC9y7guz"
   },
   "source": [
    "# Data loading for CMM 536 (PART 1)"
   ]
  },
  {
   "cell_type": "markdown",
   "metadata": {
    "id": "IoHFrHLf7gu1"
   },
   "source": [
    "The imported dataset that was used for this image classification problem consist of 2443 images. The images have a consistent file format and they can easily be loaded and manipulated. Due to this detail, it makes data cleaning unnecessary for the vast majority of the files found in the repositories. In order to organize the data collected for the classification problem, there was a need for the datasets to be categorised into their respective folders. This would aid in the efficient training of our model later on. The dataset included the x-ray images of the wrsit, shoulder and chest images from various sources.\n",
    "Kaggle was used to source all the data that was used. The datasets were useful due to them being collated.\n",
    "\n",
    "We have to first initiate the requisite library that would be used for loading the datasets and transforming them into objects that can be manipulated in a dataframe. "
   ]
  },
  {
   "cell_type": "markdown",
   "metadata": {
    "id": "5eK2nydn7gu2"
   },
   "source": [
    "## Install initial packages that are instrumental to the loading of the image datasets."
   ]
  },
  {
   "cell_type": "markdown",
   "metadata": {
    "id": "i38AE0bq7gu3"
   },
   "source": [
    "We had to initiate pip install of the open CV library which would be crucial to solving the classification problem of the dataset. Since the problem is an image classification, it requires computer vision and the fuctionality of other machine learning libraries. It is one of the most robust open source library used for solving image classification/image recognition problems."
   ]
  },
  {
   "cell_type": "code",
   "execution_count": 1,
   "metadata": {
    "id": "vggO1FOq7gu3",
    "outputId": "a78fb756-2fa4-45ad-95e1-cb536f6d21da"
   },
   "outputs": [
    {
     "name": "stdout",
     "output_type": "stream",
     "text": [
      "Requirement already satisfied: opencv-python in c:\\users\\dell latitude e7470\\anaconda3\\lib\\site-packages (4.5.5.64)\n",
      "Requirement already satisfied: numpy>=1.14.5 in c:\\users\\dell latitude e7470\\anaconda3\\lib\\site-packages (from opencv-python) (1.20.3)\n"
     ]
    }
   ],
   "source": [
    "!pip install opencv-python"
   ]
  },
  {
   "cell_type": "markdown",
   "metadata": {},
   "source": [
    "This is the initial librabry that would be needed in order to read the images from our dataset. This is also due to the fact that we will be making use of methods such as `cv2.imread`. It is a very instrumental tool for the completion of this project."
   ]
  },
  {
   "cell_type": "markdown",
   "metadata": {
    "id": "glZpX4SW7gu5"
   },
   "source": [
    "## Converting the images in the dataset repository into Numpy arrays"
   ]
  },
  {
   "cell_type": "markdown",
   "metadata": {},
   "source": [
    "The decision to convert our images into a numpy array is due to the fact that it is easier, more convenient and faster to manipulate our data using it. Before proceeding to the final loading process, we have to import some libraries to aid the process."
   ]
  },
  {
   "cell_type": "code",
   "execution_count": 2,
   "metadata": {},
   "outputs": [],
   "source": [
    "import os #operating system module for dealing with the working directory of the datasets to be considered\n",
    "import cv2 #open cv (computer vision) library for image classification\n",
    "import numpy as np #numpy is meant to be used for matrice manipulation\n",
    "%matplotlib inline\n",
    "import matplotlib.pyplot as plt"
   ]
  },
  {
   "cell_type": "markdown",
   "metadata": {
    "id": "oDKZuDEj7gu5"
   },
   "source": [
    "After the installation of all the requisite libraries, we then proceed to load all the images into our standard dataframe. This is done in order for us to structure our data properly. This is an effective method for us to implement the standard practice of initializing our datasets for supervised learning."
   ]
  },
  {
   "cell_type": "code",
   "execution_count": 3,
   "metadata": {},
   "outputs": [],
   "source": [
    "import pandas as pd"
   ]
  },
  {
   "cell_type": "code",
   "execution_count": 4,
   "metadata": {
    "tags": []
   },
   "outputs": [
    {
     "name": "stdout",
     "output_type": "stream",
     "text": [
      "This is the repository of xray_pics that will be used for the analysis\n",
      "[[  3   3   3 ...   7   7   7]\n",
      " [214 189 178 ...  11  12  44]\n",
      " [  2   2   2 ...   9  21  55]\n",
      " ...\n",
      " [  4   4   4 ...   4   4   4]\n",
      " [  4   4   5 ...   5   4   4]\n",
      " [  4   5   4 ...   4   4   3]]\n",
      "['chest', 'chest', 'chest', 'chest', 'chest', 'chest', 'chest', 'chest', 'chest', 'chest', 'chest', 'chest', 'chest', 'chest', 'chest', 'chest', 'chest', 'chest', 'chest', 'chest', 'chest', 'chest', 'chest', 'chest', 'chest', 'chest', 'chest', 'chest', 'chest', 'chest', 'chest', 'chest', 'chest', 'chest', 'chest', 'chest', 'chest', 'chest', 'chest', 'chest', 'chest', 'chest', 'chest', 'chest', 'chest', 'chest', 'chest', 'chest', 'chest', 'chest', 'chest', 'chest', 'chest', 'chest', 'chest', 'chest', 'chest', 'chest', 'chest', 'chest', 'chest', 'chest', 'chest', 'chest', 'chest', 'chest', 'chest', 'chest', 'chest', 'chest', 'chest', 'chest', 'chest', 'chest', 'chest', 'chest', 'chest', 'chest', 'chest', 'chest', 'chest', 'chest', 'chest', 'chest', 'chest', 'chest', 'chest', 'chest', 'chest', 'chest', 'chest', 'chest', 'chest', 'chest', 'chest', 'chest', 'chest', 'chest', 'chest', 'chest', 'chest', 'chest', 'chest', 'chest', 'chest', 'chest', 'chest', 'chest', 'chest', 'chest', 'chest', 'chest', 'chest', 'chest', 'chest', 'chest', 'chest', 'chest', 'chest', 'chest', 'chest', 'chest', 'chest', 'chest', 'chest', 'chest', 'chest', 'chest', 'chest', 'chest', 'chest', 'chest', 'chest', 'chest', 'chest', 'chest', 'chest', 'chest', 'chest', 'chest', 'chest', 'chest', 'chest', 'chest', 'chest', 'chest', 'chest', 'chest', 'chest', 'chest', 'chest', 'chest', 'chest', 'chest', 'chest', 'chest', 'chest', 'chest', 'chest', 'chest', 'chest', 'chest', 'chest', 'chest', 'chest', 'chest', 'chest', 'chest', 'chest', 'chest', 'chest', 'chest', 'chest', 'chest', 'chest', 'chest', 'chest', 'chest', 'chest', 'chest', 'chest', 'chest', 'chest', 'chest', 'chest', 'chest', 'chest', 'chest', 'chest', 'chest', 'chest', 'chest', 'chest', 'chest', 'chest', 'chest', 'chest', 'chest', 'chest', 'chest', 'chest', 'chest', 'chest', 'chest', 'chest', 'chest', 'chest', 'chest', 'chest', 'chest', 'chest', 'chest', 'chest', 'chest', 'chest', 'chest', 'chest', 'chest', 'chest', 'chest', 'chest', 'chest', 'chest', 'chest', 'chest', 'chest', 'chest', 'chest', 'chest', 'chest', 'chest', 'chest', 'chest', 'chest', 'chest', 'chest', 'chest', 'chest', 'chest', 'chest', 'chest', 'chest', 'chest', 'chest', 'chest', 'chest', 'chest', 'chest', 'chest', 'chest', 'chest', 'chest', 'chest', 'chest', 'chest', 'chest', 'chest', 'chest', 'chest', 'chest', 'chest', 'chest', 'chest', 'chest', 'chest', 'chest', 'chest', 'chest', 'chest', 'chest', 'chest', 'chest', 'chest', 'chest', 'chest', 'chest', 'chest', 'chest', 'chest', 'chest', 'chest', 'chest', 'chest', 'chest', 'chest', 'chest', 'chest', 'chest', 'chest', 'chest', 'chest', 'chest', 'chest', 'chest', 'chest', 'chest', 'chest', 'chest', 'chest', 'chest', 'chest', 'chest', 'chest', 'chest', 'chest', 'chest', 'chest', 'chest', 'chest', 'chest', 'chest', 'chest', 'chest', 'chest', 'chest', 'chest', 'chest', 'chest', 'chest', 'chest', 'chest', 'chest', 'chest', 'chest', 'chest', 'chest', 'chest', 'chest', 'chest', 'chest', 'chest', 'chest', 'chest', 'chest', 'chest', 'chest', 'chest', 'chest', 'chest', 'chest', 'chest', 'chest', 'chest', 'chest', 'chest', 'chest', 'chest', 'chest', 'chest', 'chest', 'chest', 'chest', 'chest', 'chest', 'chest', 'chest', 'chest', 'chest', 'chest', 'chest', 'chest', 'chest', 'chest', 'chest', 'chest', 'chest', 'chest', 'chest', 'chest', 'chest', 'chest', 'chest', 'chest', 'chest', 'chest', 'chest', 'chest', 'chest', 'chest', 'chest', 'chest', 'chest', 'chest', 'chest', 'chest', 'chest', 'chest', 'chest', 'chest', 'chest', 'chest', 'chest', 'chest', 'chest', 'chest', 'chest', 'chest', 'chest', 'chest', 'chest', 'chest', 'chest', 'chest', 'chest', 'chest', 'chest', 'chest', 'chest', 'chest', 'chest', 'chest', 'chest', 'chest', 'chest', 'chest', 'chest', 'chest', 'chest', 'chest', 'chest', 'chest', 'chest', 'chest', 'chest', 'chest', 'chest', 'chest', 'chest', 'chest', 'chest', 'chest', 'chest', 'chest', 'chest', 'chest', 'chest', 'chest', 'chest', 'chest', 'chest', 'chest', 'chest', 'chest', 'chest', 'chest', 'chest', 'chest', 'chest', 'chest', 'chest', 'chest', 'chest', 'chest', 'chest', 'chest', 'chest', 'chest', 'chest', 'chest', 'chest', 'chest', 'chest', 'chest', 'chest', 'chest', 'chest', 'chest', 'chest', 'chest', 'chest', 'chest', 'chest', 'chest', 'chest', 'chest', 'chest', 'chest', 'chest', 'chest', 'chest', 'chest', 'chest', 'chest', 'chest', 'chest', 'chest', 'chest', 'chest', 'chest', 'chest', 'chest', 'chest', 'chest', 'chest', 'chest', 'chest', 'chest', 'chest', 'chest', 'chest', 'chest', 'chest', 'chest', 'chest', 'chest', 'chest', 'chest', 'chest', 'chest', 'chest', 'chest', 'chest', 'chest', 'chest', 'chest', 'chest', 'chest', 'chest', 'chest', 'chest', 'chest', 'chest', 'chest', 'chest', 'chest', 'chest', 'chest', 'chest', 'chest', 'chest', 'chest', 'chest', 'chest', 'chest', 'chest', 'chest', 'chest', 'chest', 'chest', 'chest', 'chest', 'chest', 'chest', 'chest', 'chest', 'chest', 'chest', 'chest', 'chest', 'chest', 'chest', 'chest', 'chest', 'chest', 'chest', 'chest', 'chest', 'chest', 'chest', 'chest', 'chest', 'chest', 'chest', 'chest', 'chest', 'chest', 'chest', 'chest', 'chest', 'chest', 'chest', 'chest', 'chest', 'chest', 'chest', 'chest', 'chest', 'chest', 'chest', 'chest', 'chest', 'chest', 'chest', 'chest', 'chest', 'chest', 'chest', 'chest', 'chest', 'chest', 'chest', 'chest', 'chest', 'chest', 'chest', 'chest', 'chest', 'chest', 'chest', 'chest', 'chest', 'chest', 'chest', 'chest', 'chest', 'chest', 'chest', 'chest', 'chest', 'chest', 'chest', 'chest', 'chest', 'chest', 'chest', 'chest', 'chest', 'chest', 'chest', 'chest', 'chest', 'chest', 'chest', 'chest', 'chest', 'chest', 'chest', 'chest', 'chest', 'chest', 'chest', 'chest', 'chest', 'chest', 'chest', 'chest', 'chest', 'chest', 'chest', 'chest', 'chest', 'chest', 'chest', 'chest', 'chest', 'chest', 'chest', 'chest', 'chest', 'chest', 'chest', 'chest', 'chest', 'chest', 'chest', 'chest', 'chest', 'chest', 'chest', 'chest', 'chest', 'chest', 'chest', 'chest', 'chest', 'chest', 'chest', 'chest', 'chest', 'chest', 'chest', 'chest', 'chest', 'chest', 'chest', 'chest', 'chest', 'chest', 'chest', 'chest', 'chest', 'chest', 'chest', 'chest', 'chest', 'chest', 'chest', 'chest', 'chest', 'chest', 'chest', 'chest', 'chest', 'chest', 'chest', 'chest', 'chest', 'chest', 'chest', 'chest', 'chest', 'chest', 'chest', 'chest', 'chest', 'chest', 'chest', 'chest', 'chest', 'chest', 'chest', 'chest', 'chest', 'chest', 'chest', 'chest', 'chest', 'chest', 'chest', 'chest', 'chest', 'chest', 'chest', 'chest', 'chest', 'chest', 'chest', 'chest', 'chest', 'chest', 'chest', 'chest', 'chest', 'chest', 'chest', 'chest', 'chest', 'chest', 'chest', 'chest', 'chest', 'chest', 'chest', 'chest', 'chest', 'chest', 'chest', 'chest', 'chest', 'chest', 'chest', 'chest', 'chest', 'chest', 'chest', 'chest', 'chest', 'chest', 'chest', 'chest', 'chest', 'chest', 'chest', 'chest', 'chest', 'chest', 'chest', 'chest', 'chest', 'chest', 'chest', 'chest', 'chest', 'chest', 'chest', 'chest', 'chest', 'chest', 'chest', 'chest', 'chest', 'chest', 'chest', 'chest', 'chest', 'chest', 'chest', 'chest', 'chest', 'chest', 'chest', 'chest', 'chest', 'chest', 'chest', 'chest', 'chest', 'chest', 'chest', 'chest', 'chest', 'chest', 'chest', 'chest', 'chest', 'chest', 'chest', 'chest', 'chest', 'chest', 'chest', 'chest', 'chest', 'chest', 'chest', 'chest', 'chest', 'chest', 'chest', 'chest', 'chest', 'chest', 'chest', 'chest', 'chest', 'chest', 'chest', 'chest', 'chest', 'chest', 'chest', 'chest', 'chest', 'chest', 'chest', 'chest', 'chest', 'chest', 'chest', 'chest', 'chest', 'chest', 'chest', 'chest', 'chest', 'chest', 'chest', 'chest', 'chest', 'chest', 'chest', 'chest', 'chest', 'chest', 'chest', 'chest', 'chest', 'chest', 'chest', 'chest', 'chest', 'chest', 'chest', 'chest', 'chest', 'chest', 'chest', 'chest', 'chest', 'chest', 'chest', 'chest', 'chest', 'chest', 'chest', 'chest', 'chest', 'chest', 'chest', 'chest', 'chest', 'chest', 'chest', 'chest', 'chest', 'chest', 'chest', 'chest', 'chest', 'chest', 'chest', 'chest', 'chest', 'chest', 'chest', 'chest', 'chest', 'chest', 'chest', 'chest', 'chest', 'chest', 'chest', 'chest', 'chest', 'chest', 'chest', 'chest', 'chest', 'chest', 'chest', 'chest', 'chest', 'chest', 'chest', 'chest', 'chest', 'chest', 'chest', 'chest', 'chest', 'chest', 'chest', 'chest', 'chest', 'chest', 'chest', 'chest', 'chest', 'chest', 'chest', 'chest', 'chest', 'chest', 'chest', 'chest', 'chest', 'chest', 'chest', 'chest', 'chest', 'chest', 'chest', 'chest', 'chest', 'chest', 'chest', 'chest', 'chest', 'chest', 'chest', 'chest', 'chest', 'chest', 'chest', 'chest', 'chest', 'chest', 'chest', 'chest', 'chest', 'chest', 'chest', 'chest', 'chest', 'chest', 'chest', 'chest', 'chest', 'chest', 'chest', 'chest', 'chest', 'chest', 'chest', 'chest', 'chest', 'chest', 'chest', 'chest', 'chest', 'chest', 'chest', 'chest', 'chest', 'chest', 'chest', 'chest', 'chest', 'chest', 'chest', 'chest', 'chest', 'chest', 'chest', 'chest', 'chest', 'chest', 'chest', 'chest', 'chest', 'chest', 'chest', 'chest', 'chest', 'chest', 'chest', 'chest', 'chest', 'chest', 'chest', 'chest', 'chest', 'chest', 'chest', 'chest', 'chest', 'chest', 'chest', 'chest', 'chest', 'chest', 'chest', 'chest', 'chest', 'chest', 'chest', 'chest', 'chest', 'chest', 'chest', 'chest', 'chest', 'chest', 'chest', 'chest', 'chest', 'chest', 'chest', 'chest', 'chest', 'chest', 'chest', 'chest', 'chest', 'chest', 'chest', 'chest', 'chest', 'chest', 'chest', 'chest', 'chest', 'chest', 'chest', 'chest', 'chest', 'chest', 'chest', 'chest', 'chest', 'chest', 'chest', 'chest', 'chest', 'chest', 'chest', 'chest', 'chest', 'chest', 'chest', 'chest', 'chest', 'chest', 'chest', 'chest', 'chest', 'chest', 'chest', 'chest', 'chest', 'chest', 'chest', 'chest', 'chest', 'chest', 'shoulder', 'shoulder', 'shoulder', 'shoulder', 'shoulder', 'shoulder', 'shoulder', 'shoulder', 'shoulder', 'shoulder', 'shoulder', 'shoulder', 'shoulder', 'shoulder', 'shoulder', 'shoulder', 'shoulder', 'shoulder', 'shoulder', 'shoulder', 'shoulder', 'shoulder', 'shoulder', 'shoulder', 'shoulder', 'shoulder', 'shoulder', 'shoulder', 'shoulder', 'shoulder', 'shoulder', 'shoulder', 'shoulder', 'shoulder', 'shoulder', 'shoulder', 'shoulder', 'shoulder', 'shoulder', 'shoulder', 'shoulder', 'shoulder', 'shoulder', 'shoulder', 'shoulder', 'shoulder', 'shoulder', 'shoulder', 'shoulder', 'shoulder', 'shoulder', 'shoulder', 'shoulder', 'shoulder', 'shoulder', 'shoulder', 'shoulder', 'shoulder', 'shoulder', 'shoulder', 'shoulder', 'shoulder', 'shoulder', 'shoulder', 'shoulder', 'shoulder', 'shoulder', 'shoulder', 'shoulder', 'shoulder', 'shoulder', 'shoulder', 'shoulder', 'shoulder', 'shoulder', 'shoulder', 'shoulder', 'shoulder', 'shoulder', 'shoulder', 'shoulder', 'shoulder', 'shoulder', 'shoulder', 'shoulder', 'shoulder', 'shoulder', 'shoulder', 'shoulder', 'shoulder', 'shoulder', 'shoulder', 'shoulder', 'shoulder', 'shoulder', 'shoulder', 'shoulder', 'shoulder', 'shoulder', 'shoulder', 'shoulder', 'shoulder', 'shoulder', 'shoulder', 'shoulder', 'shoulder', 'shoulder', 'shoulder', 'shoulder', 'shoulder', 'shoulder', 'shoulder', 'shoulder', 'shoulder', 'shoulder', 'shoulder', 'shoulder', 'shoulder', 'shoulder', 'shoulder', 'shoulder', 'shoulder', 'shoulder', 'shoulder', 'shoulder', 'shoulder', 'shoulder', 'shoulder', 'shoulder', 'shoulder', 'shoulder', 'shoulder', 'shoulder', 'shoulder', 'shoulder', 'shoulder', 'shoulder', 'shoulder', 'shoulder', 'shoulder', 'shoulder', 'shoulder', 'shoulder', 'shoulder', 'shoulder', 'shoulder', 'shoulder', 'shoulder', 'shoulder', 'shoulder', 'shoulder', 'shoulder', 'shoulder', 'shoulder', 'shoulder', 'shoulder', 'shoulder', 'shoulder', 'shoulder', 'shoulder', 'shoulder', 'shoulder', 'shoulder', 'shoulder', 'shoulder', 'shoulder', 'shoulder', 'shoulder', 'shoulder', 'shoulder', 'shoulder', 'shoulder', 'shoulder', 'shoulder', 'shoulder', 'shoulder', 'shoulder', 'shoulder', 'shoulder', 'shoulder', 'shoulder', 'shoulder', 'shoulder', 'shoulder', 'shoulder', 'shoulder', 'shoulder', 'shoulder', 'shoulder', 'shoulder', 'shoulder', 'shoulder', 'shoulder', 'shoulder', 'shoulder', 'shoulder', 'shoulder', 'shoulder', 'shoulder', 'shoulder', 'shoulder', 'shoulder', 'shoulder', 'shoulder', 'shoulder', 'shoulder', 'shoulder', 'shoulder', 'shoulder', 'shoulder', 'shoulder', 'shoulder', 'shoulder', 'shoulder', 'shoulder', 'shoulder', 'shoulder', 'shoulder', 'shoulder', 'shoulder', 'shoulder', 'shoulder', 'shoulder', 'shoulder', 'shoulder', 'shoulder', 'shoulder', 'shoulder', 'shoulder', 'shoulder', 'shoulder', 'shoulder', 'shoulder', 'shoulder', 'shoulder', 'shoulder', 'shoulder', 'shoulder', 'shoulder', 'shoulder', 'shoulder', 'shoulder', 'shoulder', 'shoulder', 'shoulder', 'shoulder', 'shoulder', 'shoulder', 'shoulder', 'shoulder', 'shoulder', 'shoulder', 'shoulder', 'shoulder', 'shoulder', 'shoulder', 'shoulder', 'shoulder', 'shoulder', 'shoulder', 'shoulder', 'shoulder', 'shoulder', 'shoulder', 'shoulder', 'shoulder', 'shoulder', 'shoulder', 'shoulder', 'shoulder', 'shoulder', 'shoulder', 'shoulder', 'shoulder', 'shoulder', 'shoulder', 'shoulder', 'shoulder', 'shoulder', 'shoulder', 'shoulder', 'shoulder', 'shoulder', 'shoulder', 'shoulder', 'shoulder', 'shoulder', 'shoulder', 'shoulder', 'shoulder', 'shoulder', 'shoulder', 'shoulder', 'shoulder', 'shoulder', 'shoulder', 'shoulder', 'shoulder', 'shoulder', 'shoulder', 'shoulder', 'shoulder', 'shoulder', 'shoulder', 'shoulder', 'shoulder', 'shoulder', 'shoulder', 'shoulder', 'shoulder', 'shoulder', 'shoulder', 'shoulder', 'shoulder', 'shoulder', 'shoulder', 'shoulder', 'shoulder', 'shoulder', 'shoulder', 'shoulder', 'shoulder', 'shoulder', 'shoulder', 'shoulder', 'shoulder', 'shoulder', 'shoulder', 'shoulder', 'shoulder', 'shoulder', 'shoulder', 'shoulder', 'shoulder', 'shoulder', 'shoulder', 'shoulder', 'shoulder', 'shoulder', 'shoulder', 'shoulder', 'shoulder', 'shoulder', 'shoulder', 'shoulder', 'shoulder', 'shoulder', 'shoulder', 'shoulder', 'shoulder', 'shoulder', 'shoulder', 'shoulder', 'shoulder', 'shoulder', 'shoulder', 'shoulder', 'shoulder', 'shoulder', 'shoulder', 'shoulder', 'shoulder', 'shoulder', 'shoulder', 'shoulder', 'shoulder', 'shoulder', 'shoulder', 'shoulder', 'shoulder', 'shoulder', 'shoulder', 'shoulder', 'shoulder', 'shoulder', 'shoulder', 'shoulder', 'shoulder', 'shoulder', 'shoulder', 'shoulder', 'shoulder', 'shoulder', 'shoulder', 'shoulder', 'shoulder', 'shoulder', 'shoulder', 'shoulder', 'shoulder', 'shoulder', 'shoulder', 'shoulder', 'shoulder', 'shoulder', 'shoulder', 'shoulder', 'shoulder', 'shoulder', 'shoulder', 'shoulder', 'shoulder', 'shoulder', 'shoulder', 'shoulder', 'shoulder', 'shoulder', 'shoulder', 'shoulder', 'shoulder', 'shoulder', 'shoulder', 'shoulder', 'shoulder', 'shoulder', 'shoulder', 'shoulder', 'shoulder', 'shoulder', 'shoulder', 'shoulder', 'shoulder', 'shoulder', 'shoulder', 'shoulder', 'shoulder', 'shoulder', 'shoulder', 'shoulder', 'shoulder', 'shoulder', 'shoulder', 'shoulder', 'shoulder', 'shoulder', 'shoulder', 'shoulder', 'shoulder', 'shoulder', 'shoulder', 'shoulder', 'shoulder', 'shoulder', 'shoulder', 'shoulder', 'shoulder', 'shoulder', 'shoulder', 'shoulder', 'shoulder', 'shoulder', 'shoulder', 'shoulder', 'shoulder', 'shoulder', 'shoulder', 'shoulder', 'shoulder', 'shoulder', 'shoulder', 'shoulder', 'shoulder', 'shoulder', 'shoulder', 'shoulder', 'shoulder', 'shoulder', 'shoulder', 'shoulder', 'shoulder', 'shoulder', 'shoulder', 'shoulder', 'shoulder', 'shoulder', 'shoulder', 'shoulder', 'shoulder', 'shoulder', 'shoulder', 'shoulder', 'shoulder', 'shoulder', 'shoulder', 'shoulder', 'shoulder', 'shoulder', 'shoulder', 'shoulder', 'shoulder', 'shoulder', 'shoulder', 'shoulder', 'shoulder', 'shoulder', 'shoulder', 'shoulder', 'shoulder', 'shoulder', 'shoulder', 'shoulder', 'shoulder', 'shoulder', 'shoulder', 'shoulder', 'shoulder', 'shoulder', 'shoulder', 'shoulder', 'shoulder', 'shoulder', 'shoulder', 'shoulder', 'shoulder', 'shoulder', 'shoulder', 'shoulder', 'shoulder', 'shoulder', 'shoulder', 'shoulder', 'shoulder', 'shoulder', 'shoulder', 'shoulder', 'shoulder', 'shoulder', 'shoulder', 'shoulder', 'shoulder', 'shoulder', 'shoulder', 'shoulder', 'shoulder', 'shoulder', 'shoulder', 'shoulder', 'shoulder', 'shoulder', 'shoulder', 'shoulder', 'shoulder', 'shoulder', 'shoulder', 'shoulder', 'shoulder', 'shoulder', 'shoulder', 'shoulder', 'shoulder', 'shoulder', 'shoulder', 'shoulder', 'shoulder', 'shoulder', 'shoulder', 'shoulder', 'shoulder', 'shoulder', 'shoulder', 'shoulder', 'shoulder', 'shoulder', 'shoulder', 'shoulder', 'shoulder', 'shoulder', 'shoulder', 'shoulder', 'shoulder', 'shoulder', 'shoulder', 'shoulder', 'shoulder', 'shoulder', 'shoulder', 'shoulder', 'shoulder', 'shoulder', 'shoulder', 'shoulder', 'shoulder', 'shoulder', 'shoulder', 'shoulder', 'shoulder', 'shoulder', 'shoulder', 'shoulder', 'shoulder', 'shoulder', 'shoulder', 'shoulder', 'shoulder', 'shoulder', 'shoulder', 'shoulder', 'shoulder', 'shoulder', 'shoulder', 'shoulder', 'shoulder', 'shoulder', 'shoulder', 'shoulder', 'shoulder', 'shoulder', 'shoulder', 'shoulder', 'shoulder', 'shoulder', 'shoulder', 'shoulder', 'shoulder', 'shoulder', 'shoulder', 'shoulder', 'shoulder', 'shoulder', 'shoulder', 'shoulder', 'shoulder', 'shoulder', 'shoulder', 'shoulder', 'shoulder', 'shoulder', 'shoulder', 'shoulder', 'shoulder', 'shoulder', 'shoulder', 'shoulder', 'shoulder', 'shoulder', 'shoulder', 'shoulder', 'shoulder', 'shoulder', 'shoulder', 'shoulder', 'shoulder', 'shoulder', 'shoulder', 'shoulder', 'shoulder', 'shoulder', 'shoulder', 'shoulder', 'shoulder', 'shoulder', 'shoulder', 'shoulder', 'shoulder', 'shoulder', 'shoulder', 'shoulder', 'shoulder', 'shoulder', 'shoulder', 'shoulder', 'shoulder', 'shoulder', 'shoulder', 'shoulder', 'shoulder', 'shoulder', 'shoulder', 'shoulder', 'shoulder', 'shoulder', 'shoulder', 'shoulder', 'shoulder', 'shoulder', 'shoulder', 'shoulder', 'shoulder', 'shoulder', 'shoulder', 'shoulder', 'shoulder', 'shoulder', 'shoulder', 'shoulder', 'shoulder', 'shoulder', 'shoulder', 'shoulder', 'shoulder', 'shoulder', 'shoulder', 'shoulder', 'shoulder', 'shoulder', 'shoulder', 'shoulder', 'shoulder', 'shoulder', 'shoulder', 'shoulder', 'shoulder', 'shoulder', 'shoulder', 'shoulder', 'shoulder', 'shoulder', 'shoulder', 'shoulder', 'shoulder', 'shoulder', 'shoulder', 'shoulder', 'shoulder', 'shoulder', 'shoulder', 'shoulder', 'shoulder', 'shoulder', 'shoulder', 'shoulder', 'shoulder', 'shoulder', 'shoulder', 'shoulder', 'shoulder', 'shoulder', 'shoulder', 'shoulder', 'shoulder', 'shoulder', 'shoulder', 'shoulder', 'shoulder', 'shoulder', 'shoulder', 'shoulder', 'shoulder', 'shoulder', 'shoulder', 'shoulder', 'shoulder', 'shoulder', 'shoulder', 'shoulder', 'shoulder', 'shoulder', 'shoulder', 'shoulder', 'shoulder', 'shoulder', 'shoulder', 'shoulder', 'shoulder', 'shoulder', 'shoulder', 'shoulder', 'shoulder', 'shoulder', 'shoulder', 'shoulder', 'shoulder', 'shoulder', 'shoulder', 'shoulder', 'shoulder', 'shoulder', 'shoulder', 'shoulder', 'shoulder', 'shoulder', 'shoulder', 'shoulder', 'shoulder', 'shoulder', 'shoulder', 'shoulder', 'shoulder', 'shoulder', 'shoulder', 'shoulder', 'shoulder', 'shoulder', 'shoulder', 'shoulder', 'shoulder', 'shoulder', 'shoulder', 'shoulder', 'shoulder', 'shoulder', 'shoulder', 'shoulder', 'shoulder', 'shoulder', 'shoulder', 'shoulder', 'shoulder', 'shoulder', 'shoulder', 'shoulder', 'shoulder', 'shoulder', 'shoulder', 'shoulder', 'shoulder', 'shoulder', 'shoulder', 'shoulder', 'shoulder', 'shoulder', 'shoulder', 'shoulder', 'shoulder', 'shoulder', 'shoulder', 'shoulder', 'shoulder', 'shoulder', 'shoulder', 'shoulder', 'shoulder', 'shoulder', 'shoulder', 'shoulder', 'shoulder', 'shoulder', 'shoulder', 'shoulder', 'shoulder', 'shoulder', 'shoulder', 'shoulder', 'shoulder', 'shoulder', 'shoulder', 'shoulder', 'shoulder', 'shoulder', 'shoulder', 'shoulder', 'shoulder', 'shoulder', 'shoulder', 'shoulder', 'shoulder', 'shoulder', 'shoulder', 'shoulder', 'shoulder', 'shoulder', 'shoulder', 'shoulder', 'shoulder', 'shoulder', 'shoulder', 'shoulder', 'shoulder', 'shoulder', 'shoulder', 'shoulder', 'shoulder', 'shoulder', 'shoulder', 'shoulder', 'shoulder', 'shoulder', 'shoulder', 'shoulder', 'shoulder', 'shoulder', 'shoulder', 'shoulder', 'shoulder', 'shoulder', 'shoulder', 'shoulder', 'shoulder', 'shoulder', 'shoulder', 'shoulder', 'shoulder', 'shoulder', 'shoulder', 'shoulder', 'shoulder', 'shoulder', 'shoulder', 'shoulder', 'shoulder', 'shoulder', 'shoulder', 'shoulder', 'shoulder', 'shoulder', 'shoulder', 'shoulder', 'shoulder', 'shoulder', 'shoulder', 'shoulder', 'shoulder', 'shoulder', 'shoulder', 'shoulder', 'shoulder', 'shoulder', 'shoulder', 'shoulder', 'shoulder', 'shoulder', 'shoulder', 'shoulder', 'shoulder', 'shoulder', 'shoulder', 'shoulder', 'shoulder', 'shoulder', 'shoulder', 'shoulder', 'shoulder', 'shoulder', 'shoulder', 'shoulder', 'shoulder', 'shoulder', 'shoulder', 'shoulder', 'shoulder', 'shoulder', 'shoulder', 'shoulder', 'shoulder', 'shoulder', 'shoulder', 'shoulder', 'shoulder', 'shoulder', 'shoulder', 'shoulder', 'shoulder', 'shoulder', 'shoulder', 'shoulder', 'wrist', 'wrist', 'wrist', 'wrist', 'wrist', 'wrist', 'wrist', 'wrist', 'wrist', 'wrist', 'wrist', 'wrist', 'wrist', 'wrist', 'wrist', 'wrist', 'wrist', 'wrist', 'wrist', 'wrist', 'wrist', 'wrist', 'wrist', 'wrist', 'wrist', 'wrist', 'wrist', 'wrist', 'wrist', 'wrist', 'wrist', 'wrist', 'wrist', 'wrist', 'wrist', 'wrist', 'wrist', 'wrist', 'wrist', 'wrist', 'wrist', 'wrist', 'wrist', 'wrist', 'wrist', 'wrist', 'wrist', 'wrist', 'wrist', 'wrist', 'wrist', 'wrist', 'wrist', 'wrist', 'wrist', 'wrist', 'wrist', 'wrist', 'wrist', 'wrist', 'wrist', 'wrist', 'wrist', 'wrist', 'wrist', 'wrist', 'wrist', 'wrist', 'wrist', 'wrist', 'wrist', 'wrist', 'wrist', 'wrist', 'wrist', 'wrist', 'wrist', 'wrist', 'wrist', 'wrist', 'wrist', 'wrist', 'wrist', 'wrist', 'wrist', 'wrist', 'wrist', 'wrist', 'wrist', 'wrist', 'wrist', 'wrist', 'wrist', 'wrist', 'wrist', 'wrist', 'wrist', 'wrist', 'wrist', 'wrist', 'wrist', 'wrist', 'wrist', 'wrist', 'wrist', 'wrist', 'wrist', 'wrist', 'wrist', 'wrist', 'wrist', 'wrist', 'wrist', 'wrist', 'wrist', 'wrist', 'wrist', 'wrist', 'wrist', 'wrist', 'wrist', 'wrist', 'wrist', 'wrist', 'wrist', 'wrist', 'wrist', 'wrist', 'wrist', 'wrist', 'wrist', 'wrist', 'wrist', 'wrist', 'wrist', 'wrist', 'wrist', 'wrist', 'wrist', 'wrist', 'wrist', 'wrist', 'wrist', 'wrist', 'wrist', 'wrist', 'wrist', 'wrist', 'wrist', 'wrist', 'wrist', 'wrist', 'wrist', 'wrist', 'wrist', 'wrist', 'wrist', 'wrist', 'wrist', 'wrist', 'wrist', 'wrist', 'wrist', 'wrist', 'wrist', 'wrist', 'wrist', 'wrist', 'wrist', 'wrist', 'wrist', 'wrist', 'wrist', 'wrist', 'wrist', 'wrist', 'wrist', 'wrist', 'wrist', 'wrist', 'wrist', 'wrist', 'wrist', 'wrist', 'wrist', 'wrist', 'wrist', 'wrist', 'wrist', 'wrist', 'wrist', 'wrist', 'wrist', 'wrist', 'wrist', 'wrist', 'wrist', 'wrist', 'wrist', 'wrist', 'wrist', 'wrist', 'wrist', 'wrist', 'wrist', 'wrist', 'wrist', 'wrist', 'wrist', 'wrist', 'wrist', 'wrist', 'wrist', 'wrist', 'wrist', 'wrist', 'wrist', 'wrist', 'wrist', 'wrist', 'wrist', 'wrist', 'wrist', 'wrist', 'wrist', 'wrist', 'wrist', 'wrist', 'wrist', 'wrist', 'wrist', 'wrist', 'wrist', 'wrist', 'wrist', 'wrist', 'wrist', 'wrist', 'wrist', 'wrist', 'wrist', 'wrist', 'wrist', 'wrist', 'wrist', 'wrist', 'wrist', 'wrist', 'wrist', 'wrist', 'wrist', 'wrist', 'wrist', 'wrist', 'wrist', 'wrist', 'wrist', 'wrist', 'wrist', 'wrist', 'wrist', 'wrist', 'wrist', 'wrist', 'wrist', 'wrist', 'wrist', 'wrist', 'wrist', 'wrist', 'wrist', 'wrist', 'wrist', 'wrist', 'wrist', 'wrist', 'wrist', 'wrist', 'wrist', 'wrist', 'wrist', 'wrist', 'wrist', 'wrist', 'wrist', 'wrist', 'wrist', 'wrist', 'wrist', 'wrist', 'wrist', 'wrist', 'wrist', 'wrist', 'wrist', 'wrist', 'wrist', 'wrist', 'wrist', 'wrist', 'wrist', 'wrist', 'wrist', 'wrist', 'wrist', 'wrist', 'wrist', 'wrist', 'wrist', 'wrist', 'wrist', 'wrist', 'wrist', 'wrist', 'wrist', 'wrist', 'wrist', 'wrist', 'wrist', 'wrist', 'wrist', 'wrist', 'wrist', 'wrist', 'wrist', 'wrist', 'wrist', 'wrist', 'wrist', 'wrist', 'wrist', 'wrist', 'wrist', 'wrist', 'wrist', 'wrist', 'wrist', 'wrist', 'wrist', 'wrist', 'wrist', 'wrist', 'wrist', 'wrist', 'wrist', 'wrist', 'wrist', 'wrist', 'wrist', 'wrist', 'wrist', 'wrist', 'wrist', 'wrist', 'wrist', 'wrist', 'wrist', 'wrist', 'wrist', 'wrist', 'wrist', 'wrist', 'wrist', 'wrist', 'wrist', 'wrist', 'wrist', 'wrist', 'wrist', 'wrist', 'wrist', 'wrist', 'wrist', 'wrist', 'wrist', 'wrist', 'wrist', 'wrist', 'wrist', 'wrist', 'wrist', 'wrist', 'wrist', 'wrist', 'wrist', 'wrist', 'wrist', 'wrist', 'wrist', 'wrist', 'wrist', 'wrist', 'wrist', 'wrist', 'wrist', 'wrist', 'wrist', 'wrist', 'wrist', 'wrist', 'wrist', 'wrist', 'wrist', 'wrist', 'wrist', 'wrist', 'wrist', 'wrist', 'wrist', 'wrist', 'wrist', 'wrist', 'wrist', 'wrist', 'wrist', 'wrist', 'wrist', 'wrist', 'wrist', 'wrist', 'wrist', 'wrist', 'wrist', 'wrist', 'wrist', 'wrist', 'wrist', 'wrist', 'wrist', 'wrist', 'wrist', 'wrist', 'wrist', 'wrist', 'wrist', 'wrist', 'wrist', 'wrist', 'wrist', 'wrist', 'wrist', 'wrist', 'wrist', 'wrist', 'wrist', 'wrist', 'wrist', 'wrist', 'wrist', 'wrist', 'wrist', 'wrist', 'wrist', 'wrist', 'wrist', 'wrist', 'wrist', 'wrist', 'wrist', 'wrist', 'wrist', 'wrist', 'wrist', 'wrist', 'wrist', 'wrist', 'wrist', 'wrist', 'wrist', 'wrist', 'wrist', 'wrist', 'wrist', 'wrist', 'wrist', 'wrist', 'wrist', 'wrist', 'wrist', 'wrist', 'wrist', 'wrist', 'wrist', 'wrist', 'wrist', 'wrist', 'wrist', 'wrist', 'wrist', 'wrist', 'wrist', 'wrist', 'wrist', 'wrist', 'wrist', 'wrist', 'wrist', 'wrist', 'wrist', 'wrist', 'wrist', 'wrist', 'wrist', 'wrist', 'wrist', 'wrist', 'wrist', 'wrist', 'wrist', 'wrist', 'wrist', 'wrist', 'wrist', 'wrist', 'wrist', 'wrist', 'wrist', 'wrist', 'wrist', 'wrist', 'wrist', 'wrist', 'wrist', 'wrist', 'wrist', 'wrist', 'wrist', 'wrist', 'wrist', 'wrist', 'wrist', 'wrist', 'wrist', 'wrist', 'wrist', 'wrist', 'wrist', 'wrist', 'wrist', 'wrist', 'wrist', 'wrist', 'wrist', 'wrist', 'wrist', 'wrist', 'wrist', 'wrist', 'wrist', 'wrist', 'wrist', 'wrist', 'wrist', 'wrist', 'wrist', 'wrist', 'wrist', 'wrist', 'wrist', 'wrist', 'wrist', 'wrist', 'wrist', 'wrist', 'wrist', 'wrist', 'wrist', 'wrist', 'wrist', 'wrist', 'wrist', 'wrist', 'wrist', 'wrist', 'wrist', 'wrist', 'wrist', 'wrist', 'wrist', 'wrist', 'wrist', 'wrist', 'wrist', 'wrist', 'wrist', 'wrist', 'wrist', 'wrist', 'wrist', 'wrist', 'wrist', 'wrist', 'wrist', 'wrist', 'wrist', 'wrist', 'wrist', 'wrist', 'wrist', 'wrist', 'wrist', 'wrist', 'wrist', 'wrist', 'wrist', 'wrist', 'wrist', 'wrist', 'wrist', 'wrist', 'wrist', 'wrist', 'wrist', 'wrist', 'wrist', 'wrist', 'wrist', 'wrist', 'wrist', 'wrist', 'wrist', 'wrist', 'wrist', 'wrist', 'wrist', 'wrist', 'wrist', 'wrist', 'wrist', 'wrist', 'wrist', 'wrist', 'wrist', 'wrist', 'wrist', 'wrist', 'wrist', 'wrist', 'wrist', 'wrist', 'wrist', 'wrist', 'wrist', 'wrist', 'wrist', 'wrist', 'wrist', 'wrist', 'wrist', 'wrist', 'wrist', 'wrist', 'wrist', 'wrist', 'wrist', 'wrist', 'wrist', 'wrist', 'wrist', 'wrist', 'wrist', 'wrist', 'wrist', 'wrist', 'wrist', 'wrist', 'wrist', 'wrist', 'wrist', 'wrist', 'wrist', 'wrist', 'wrist', 'wrist', 'wrist', 'wrist', 'wrist', 'wrist', 'wrist', 'wrist', 'wrist', 'wrist', 'wrist', 'wrist', 'wrist', 'wrist', 'wrist', 'wrist', 'wrist', 'wrist', 'wrist', 'wrist', 'wrist', 'wrist', 'wrist', 'wrist', 'wrist', 'wrist', 'wrist', 'wrist', 'wrist', 'wrist', 'wrist', 'wrist', 'wrist', 'wrist', 'wrist', 'wrist', 'wrist', 'wrist', 'wrist', 'wrist', 'wrist', 'wrist', 'wrist', 'wrist', 'wrist', 'wrist', 'wrist', 'wrist', 'wrist', 'wrist', 'wrist', 'wrist', 'wrist', 'wrist', 'wrist', 'wrist', 'wrist', 'wrist', 'wrist', 'wrist', 'wrist', 'wrist', 'wrist', 'wrist', 'wrist', 'wrist', 'wrist', 'wrist', 'wrist', 'wrist', 'wrist', 'wrist', 'wrist', 'wrist', 'wrist', 'wrist', 'wrist', 'wrist', 'wrist', 'wrist', 'wrist', 'wrist', 'wrist', 'wrist', 'wrist', 'wrist', 'wrist', 'wrist', 'wrist', 'wrist', 'wrist', 'wrist', 'wrist', 'wrist', 'wrist', 'wrist', 'wrist', 'wrist', 'wrist', 'wrist', 'wrist', 'wrist', 'wrist', 'wrist', 'wrist', 'wrist', 'wrist', 'wrist', 'wrist', 'wrist', 'wrist', 'wrist', 'wrist', 'wrist', 'wrist', 'wrist', 'wrist', 'wrist', 'wrist', 'wrist', 'wrist', 'wrist', 'wrist', 'wrist', 'wrist', 'wrist', 'wrist', 'wrist', 'wrist', 'wrist', 'wrist', 'wrist', 'wrist', 'wrist', 'wrist', 'wrist', 'wrist', 'wrist', 'wrist', 'wrist', 'wrist', 'wrist', 'wrist', 'wrist', 'wrist', 'wrist', 'wrist', 'wrist', 'wrist', 'wrist', 'wrist', 'wrist', 'wrist', 'wrist', 'wrist', 'wrist', 'wrist', 'wrist', 'wrist', 'wrist', 'wrist', 'wrist', 'wrist', 'wrist', 'wrist', 'wrist', 'wrist', 'wrist', 'wrist', 'wrist', 'wrist', 'wrist', 'wrist', 'wrist', 'wrist', 'wrist', 'wrist', 'wrist', 'wrist', 'wrist', 'wrist', 'wrist', 'wrist', 'wrist', 'wrist', 'wrist', 'wrist', 'wrist', 'wrist', 'wrist', 'wrist', 'wrist', 'wrist', 'wrist', 'wrist', 'wrist', 'wrist', 'wrist', 'wrist', 'wrist', 'wrist', 'wrist', 'wrist', 'wrist', 'wrist', 'wrist', 'wrist', 'wrist', 'wrist', 'wrist', 'wrist', 'wrist', 'wrist', 'wrist', 'wrist', 'wrist', 'wrist', 'wrist', 'wrist', 'wrist', 'wrist', 'wrist', 'wrist', 'wrist', 'wrist', 'wrist', 'wrist', 'wrist']\n"
     ]
    }
   ],
   "source": [
    "res_w = 70 #the width of the mages were rd to 70px.This was done in order to give the pictures a sense of consistency\n",
    "res_h = 70 #the height of the mages were rd to 70px.This was done in order to give the pictures a sense of consistency\n",
    "path = 'dataset'\n",
    "xray_pics = [] # List to append the xray_pics as 2D numpy arrays.\n",
    "targ = [] # List to append the targ feature for the labelled dataset\n",
    "rep_arr = [] # Create a rep_arr for flattened pixels\n",
    "\n",
    "for root, dirs, files in os.walk(path):\n",
    "     for f in files:\n",
    "        with open(os.path.join(root, f), \"r\") as auto: # an attempt to join the file folder\n",
    "            try: #error handling\n",
    "                xray = cv2.imread(root+'/'+f, 0) # greyscale\n",
    "                xray = cv2.resize(xray, (res_w, res_h)) \n",
    "                xray_pics.append(xray)\n",
    "                # Append the flattened xray_pics to the pixel rep_arr\n",
    "                rep_arr.append(xray.flatten())\n",
    "                # Append the folder where the xray_pics is to the targ list\n",
    "                targ.append(root.replace(path,'').replace('\\\\','').replace('/',''))\n",
    "            except Exception as e:\n",
    "                print(\"File error \"+f+\" passed.\")\n",
    "# Convert the rep_arr list into numpy array\n",
    "rep_arr = np.array(rep_arr) \n",
    "print(\"This is the repository of xray_pics that will be used for the analysis\")\n",
    "print(rep_arr)\n",
    "print(targ)"
   ]
  },
  {
   "cell_type": "code",
   "execution_count": 5,
   "metadata": {},
   "outputs": [
    {
     "data": {
      "text/plain": [
       "(2931, 4900)"
      ]
     },
     "execution_count": 5,
     "metadata": {},
     "output_type": "execute_result"
    }
   ],
   "source": [
    "rep_arr.shape"
   ]
  },
  {
   "cell_type": "code",
   "execution_count": 6,
   "metadata": {},
   "outputs": [
    {
     "data": {
      "text/plain": [
       "2931"
      ]
     },
     "execution_count": 6,
     "metadata": {},
     "output_type": "execute_result"
    }
   ],
   "source": [
    "len(targ)"
   ]
  },
  {
   "cell_type": "markdown",
   "metadata": {},
   "source": [
    "From what we can understand from the preliminery exporation of the image repository dataset, we can see that the repository has a total of `2931` images with 4900 distinct columns that would be used from assiting us build a functional predictive model. The size of the columns is attributed to the width and height specified in our code above. "
   ]
  },
  {
   "cell_type": "markdown",
   "metadata": {
    "id": "xhlDjcR37gu8"
   },
   "source": [
    "The files that were imported were put into a 2D (2-dimensional) vector. A loop was used in conjunction with the `os` module in order to have access to the local file directory system. The looping procedure which was enabled by the `os` module, aided in importing the images which was later converted into an array for easy data manipulation for the training of our model. The major reason for converting the images into an array is due to the fact that computers can only work with numbers in order to make sense of it to provide informative insights from the underlying patterns, hence the need for the conversion.\n",
    "Prior to the assigning of the images to the given variables, we also needed to resize them. This is done for the sake of consistency in size. The `cv2.imread` method was instrumental for the accessing of the images that were located in their individual folders. When we apply our machine learning method to answer the image classification issue in the future, this will make manipulating the pandas dataframe easier."
   ]
  },
  {
   "cell_type": "markdown",
   "metadata": {
    "id": "4zRrR0cB7gu8"
   },
   "source": [
    "We have to emphasize the fact that selecting the x-ray photographs that were included in this project was a painstaking procedure due to the fact that some of the images featured details that would severely affect the workability of our model. This was a manual process that took a bit of time and had no alternative of being automated with python code."
   ]
  },
  {
   "cell_type": "markdown",
   "metadata": {},
   "source": [
    "## Data Preprocessing"
   ]
  },
  {
   "cell_type": "markdown",
   "metadata": {},
   "source": [
    "Before we can proceed to build our model from scratch, we have to make sure that it is in the right format before going forward."
   ]
  },
  {
   "cell_type": "markdown",
   "metadata": {},
   "source": [
    "Use a list comprehension to encode the data to be useable by our machine learning model, where the `chest` would be defined as `0`, `shoulder` would be `1`, and `wrist` would `2`."
   ]
  },
  {
   "cell_type": "code",
   "execution_count": 7,
   "metadata": {
    "tags": []
   },
   "outputs": [],
   "source": [
    "targ = [0 if i == \"chest\" else 1 if i == \"shoulder\" else 2 for i in targ]"
   ]
  },
  {
   "cell_type": "code",
   "execution_count": 8,
   "metadata": {
    "tags": []
   },
   "outputs": [
    {
     "data": {
      "text/plain": [
       "array([0, 0, 0, ..., 2, 2, 2])"
      ]
     },
     "execution_count": 8,
     "metadata": {},
     "output_type": "execute_result"
    }
   ],
   "source": [
    "targ = np.array(targ)\n",
    "targ"
   ]
  },
  {
   "cell_type": "code",
   "execution_count": 9,
   "metadata": {},
   "outputs": [
    {
     "data": {
      "text/plain": [
       "(2931,)"
      ]
     },
     "execution_count": 9,
     "metadata": {},
     "output_type": "execute_result"
    }
   ],
   "source": [
    "# This is done in a bid to manipulate the target data to be acceptable later on. \n",
    "targ.shape"
   ]
  },
  {
   "cell_type": "markdown",
   "metadata": {},
   "source": [
    "## Split test for the dataset - Train and test of the data (70 - 30)"
   ]
  },
  {
   "cell_type": "markdown",
   "metadata": {},
   "source": [
    "As specified in the instruction, we have to conduct a 70-30 split on the dataset where 70% of the data supplied would be for training, while 30% of the same dataset would be for testing of the data. "
   ]
  },
  {
   "cell_type": "code",
   "execution_count": 40,
   "metadata": {},
   "outputs": [],
   "source": [
    "from sklearn.model_selection import train_test_split\n",
    "\n",
    "X_train, X_test, y_train, y_test = train_test_split(rep_arr, \n",
    "                                                    targ, \n",
    "                                                    test_size=0.30, \n",
    "                                                    stratify = targ,\n",
    "                                                    random_state=43)"
   ]
  },
  {
   "cell_type": "code",
   "execution_count": 30,
   "metadata": {},
   "outputs": [
    {
     "data": {
      "text/plain": [
       "<matplotlib.image.AxesImage at 0x2558a1a8700>"
      ]
     },
     "execution_count": 30,
     "metadata": {},
     "output_type": "execute_result"
    },
    {
     "data": {
      "image/png": "[encoded data removed]",
      "text/plain": [
       "<Figure size 288x288 with 1 Axes>"
      ]
     },
     "metadata": {
      "needs_background": "light"
     },
     "output_type": "display_data"
    }
   ],
   "source": [
    "plt.matshow(X_train[0])"
   ]
  },
  {
   "cell_type": "code",
   "execution_count": 41,
   "metadata": {},
   "outputs": [
    {
     "data": {
      "text/plain": [
       "(2051, 4900)"
      ]
     },
     "execution_count": 41,
     "metadata": {},
     "output_type": "execute_result"
    }
   ],
   "source": [
    "X_train.shape"
   ]
  },
  {
   "cell_type": "code",
   "execution_count": 42,
   "metadata": {},
   "outputs": [
    {
     "data": {
      "text/plain": [
       "(880, 4900)"
      ]
     },
     "execution_count": 42,
     "metadata": {},
     "output_type": "execute_result"
    }
   ],
   "source": [
    "X_test.shape"
   ]
  },
  {
   "cell_type": "code",
   "execution_count": 43,
   "metadata": {},
   "outputs": [
    {
     "data": {
      "text/plain": [
       "(2051,)"
      ]
     },
     "execution_count": 43,
     "metadata": {},
     "output_type": "execute_result"
    }
   ],
   "source": [
    "y_train.shape"
   ]
  },
  {
   "cell_type": "code",
   "execution_count": 44,
   "metadata": {},
   "outputs": [
    {
     "data": {
      "text/plain": [
       "(880,)"
      ]
     },
     "execution_count": 44,
     "metadata": {},
     "output_type": "execute_result"
    }
   ],
   "source": [
    "y_test.shape"
   ]
  },
  {
   "cell_type": "code",
   "execution_count": 45,
   "metadata": {},
   "outputs": [],
   "source": [
    "rows, cols = 70, 70 #size of the image imported into our numpy array\n",
    "\n",
    "X_train = X_train.reshape(X_train.shape[0], rows, cols)\n",
    "X_test = X_test.reshape(X_test.shape[0], rows, cols)\n",
    "X_train = X_train.astype('float32')\n",
    "X_test = X_test.astype('float32')"
   ]
  },
  {
   "cell_type": "code",
   "execution_count": 46,
   "metadata": {},
   "outputs": [
    {
     "data": {
      "text/plain": [
       "(2051, 70, 70)"
      ]
     },
     "execution_count": 46,
     "metadata": {},
     "output_type": "execute_result"
    }
   ],
   "source": [
    "X_train.shape"
   ]
  },
  {
   "cell_type": "code",
   "execution_count": 47,
   "metadata": {},
   "outputs": [],
   "source": [
    "#Normalization of our independent training and test dataset\n",
    "X_train /= 255.0\n",
    "X_test /= 255.0"
   ]
  },
  {
   "cell_type": "markdown",
   "metadata": {},
   "source": [
    "## Building the neural network using Tensorflow/ Keras"
   ]
  },
  {
   "cell_type": "code",
   "execution_count": 48,
   "metadata": {},
   "outputs": [],
   "source": [
    "#!pip install tensorflow\n",
    "#install the tensorflow package to access keras"
   ]
  },
  {
   "cell_type": "code",
   "execution_count": 49,
   "metadata": {},
   "outputs": [],
   "source": [
    "#import libraries that would be used for developing the CNN\n",
    "import tensorflow as tf\n",
    "import keras\n",
    "from tensorflow.keras.models import Sequential\n",
    "from tensorflow.keras.layers import Dense, Dropout, Activation, Flatten, Conv2D, MaxPooling2D, BatchNormalization"
   ]
  },
  {
   "cell_type": "code",
   "execution_count": 50,
   "metadata": {},
   "outputs": [],
   "source": [
    "batch_size = 256\n",
    "epochs = 5\n",
    "input_shape = (rows, cols)"
   ]
  },
  {
   "cell_type": "markdown",
   "metadata": {},
   "source": [
    "## Training of the Model Using CNN (Convolutional Neural Network)"
   ]
  },
  {
   "cell_type": "markdown",
   "metadata": {},
   "source": [
    "Here we will engage in hyper-parameter tuning in order to achieve a desireable result with the model we are running. "
   ]
  },
  {
   "cell_type": "code",
   "execution_count": 104,
   "metadata": {},
   "outputs": [
    {
     "name": "stdout",
     "output_type": "stream",
     "text": [
      "Model: \"sequential_8\"\n",
      "_________________________________________________________________\n",
      " Layer (type)                Output Shape              Param #   \n",
      "=================================================================\n",
      " flatten_8 (Flatten)         (None, 4900)              0         \n",
      "                                                                 \n",
      " dense_18 (Dense)            (None, 70)                343070    \n",
      "                                                                 \n",
      " dense_19 (Dense)            (None, 3)                 213       \n",
      "                                                                 \n",
      "=================================================================\n",
      "Total params: 343,283\n",
      "Trainable params: 343,283\n",
      "Non-trainable params: 0\n",
      "_________________________________________________________________\n"
     ]
    }
   ],
   "source": [
    "model = Sequential()\n",
    "\n",
    "model.add(Flatten(input_shape=[70, 70]))\n",
    "model.add(Dense(70, activation=\"relu\"))\n",
    "model.add(Dense(3, activation=\"softmax\")) # Due to the fact that there are 3 classses available\n",
    "\n",
    "model.summary()"
   ]
  },
  {
   "cell_type": "code",
   "execution_count": null,
   "metadata": {},
   "outputs": [
    {
     "name": "stdout",
     "output_type": "stream",
     "text": [
      "Model: \"sequential_3\"\n",
      "_________________________________________________________________\n",
      " Layer (type)                Output Shape              Param #   \n",
      "=================================================================\n",
      " conv2d_2 (Conv2D)           (None, 68, 68, 32)        320       \n",
      "                                                                 \n",
      " max_pooling2d_2 (MaxPooling  (None, 34, 34, 32)       0         \n",
      " 2D)                                                             \n",
      "                                                                 \n",
      " conv2d_3 (Conv2D)           (None, 32, 32, 64)        18496     \n",
      "                                                                 \n",
      " max_pooling2d_3 (MaxPooling  (None, 16, 16, 64)       0         \n",
      " 2D)                                                             \n",
      "                                                                 \n",
      " flatten_3 (Flatten)         (None, 16384)             0         \n",
      "                                                                 \n",
      " dense_7 (Dense)             (None, 3000)              49155000  \n",
      "                                                                 \n",
      " dense_8 (Dense)             (None, 1000)              3001000   \n",
      "                                                                 \n",
      " dense_9 (Dense)             (None, 10)                10010     \n",
      "                                                                 \n",
      "=================================================================\n",
      "Total params: 52,184,826\n",
      "Trainable params: 52,184,826\n",
      "Non-trainable params: 0\n",
      "_________________________________________________________________\n"
     ]
    }
   ],
   "source": [
    "from tensorflow.keras import datasets, layers, models\n",
    "\n",
    "cnn = models.Sequential([\n",
    "    layers.Conv2D(filters=32, kernel_size=(3, 3), activation='relu', input_shape=(70, 70, 1)),\n",
    "    layers.MaxPooling2D((2, 2)),\n",
    "    \n",
    "    layers.Conv2D(filters=64, kernel_size=(3, 3), activation='relu'),\n",
    "    layers.MaxPooling2D((2, 2)),\n",
    "    \n",
    "    layers.Flatten(input_shape=[70, 70]),\n",
    "    layers.Dense(3000, activation='relu'),\n",
    "    layers.Dense(1000, activation='relu'),\n",
    "    layers.Dense(10, activation='softmax')\n",
    "])\n",
    "\n",
    "cnn.summary()"
   ]
  },
  {
   "cell_type": "markdown",
   "metadata": {
    "tags": []
   },
   "source": [
    "## Classification report for the model "
   ]
  },
  {
   "cell_type": "code",
   "execution_count": 105,
   "metadata": {},
   "outputs": [],
   "source": [
    "# optimizer = tf.keras.optimizers.Adam(learning_rate=1)\n",
    "model.compile(loss=\"sparse_categorical_crossentropy\", \n",
    "              optimizer='adam',\n",
    "              metrics=[\"accuracy\"])"
   ]
  },
  {
   "cell_type": "code",
   "execution_count": 106,
   "metadata": {
    "tags": []
   },
   "outputs": [
    {
     "name": "stdout",
     "output_type": "stream",
     "text": [
      "Epoch 1/10\n",
      "65/65 [==============================] - 1s 6ms/step - loss: 0.3248 - accuracy: 0.9044\n",
      "Epoch 2/10\n",
      "65/65 [==============================] - 0s 6ms/step - loss: 0.0984 - accuracy: 0.9732\n",
      "Epoch 3/10\n",
      "65/65 [==============================] - 0s 7ms/step - loss: 0.0749 - accuracy: 0.9815\n",
      "Epoch 4/10\n",
      "65/65 [==============================] - 0s 7ms/step - loss: 0.0557 - accuracy: 0.9859\n",
      "Epoch 5/10\n",
      "65/65 [==============================] - 0s 7ms/step - loss: 0.0370 - accuracy: 0.9893\n",
      "Epoch 6/10\n",
      "65/65 [==============================] - 0s 7ms/step - loss: 0.0364 - accuracy: 0.9902\n",
      "Epoch 7/10\n",
      "65/65 [==============================] - 1s 9ms/step - loss: 0.0239 - accuracy: 0.9922\n",
      "Epoch 8/10\n",
      "65/65 [==============================] - 0s 7ms/step - loss: 0.0262 - accuracy: 0.9951\n",
      "Epoch 9/10\n",
      "65/65 [==============================] - 0s 7ms/step - loss: 0.0167 - accuracy: 0.9966\n",
      "Epoch 10/10\n",
      "65/65 [==============================] - 0s 7ms/step - loss: 0.0178 - accuracy: 0.9956\n"
     ]
    },
    {
     "data": {
      "text/plain": [
       "<keras.callbacks.History at 0x25580922160>"
      ]
     },
     "execution_count": 106,
     "metadata": {},
     "output_type": "execute_result"
    }
   ],
   "source": [
    "model.fit(X_train, y_train, epochs=10)"
   ]
  },
  {
   "cell_type": "code",
   "execution_count": 107,
   "metadata": {
    "tags": []
   },
   "outputs": [
    {
     "name": "stdout",
     "output_type": "stream",
     "text": [
      "28/28 [==============================] - 0s 4ms/step - loss: 0.0761 - accuracy: 0.9807\n"
     ]
    },
    {
     "data": {
      "text/plain": [
       "[0.07609204947948456, 0.980681836605072]"
      ]
     },
     "execution_count": 107,
     "metadata": {},
     "output_type": "execute_result"
    }
   ],
   "source": [
    "model.evaluate(X_test,y_test)"
   ]
  },
  {
   "cell_type": "markdown",
   "metadata": {},
   "source": [
    "As you can see, the loss function of the model is 0.07, while the accuracy of the model is 94%. We can go a step further and explain the model in a report."
   ]
  },
  {
   "cell_type": "markdown",
   "metadata": {},
   "source": [
    "### Classification report of the model"
   ]
  },
  {
   "cell_type": "code",
   "execution_count": 56,
   "metadata": {},
   "outputs": [
    {
     "name": "stdout",
     "output_type": "stream",
     "text": [
      "Classification Report: \n",
      "               precision    recall  f1-score   support\n",
      "\n",
      "           0       0.99      0.99      0.99       326\n",
      "           1       0.97      1.00      0.98       284\n",
      "           2       0.99      0.96      0.97       270\n",
      "\n",
      "    accuracy                           0.98       880\n",
      "   macro avg       0.98      0.98      0.98       880\n",
      "weighted avg       0.98      0.98      0.98       880\n",
      "\n"
     ]
    }
   ],
   "source": [
    "from sklearn.metrics import confusion_matrix , classification_report\n",
    "y_pred = model.predict(X_test)\n",
    "y_pred_classes = [np.argmax(element) for element in y_pred]\n",
    "\n",
    "print(\"Classification Report: \\n\", classification_report(y_test, y_pred_classes))"
   ]
  },
  {
   "cell_type": "markdown",
   "metadata": {},
   "source": [
    "From the initial test, we can see that the model yielded an accuracy of 94.7%. This is after evaluating its predictive capabilities on the stratified data that was reserved for validation."
   ]
  },
  {
   "cell_type": "code",
   "execution_count": 57,
   "metadata": {},
   "outputs": [],
   "source": [
    "yp = model.predict(X_test)"
   ]
  },
  {
   "cell_type": "code",
   "execution_count": 58,
   "metadata": {},
   "outputs": [],
   "source": [
    "class_labels = [\"chest\",\"wrist\",\"shoulder\"]"
   ]
  },
  {
   "cell_type": "code",
   "execution_count": 59,
   "metadata": {},
   "outputs": [
    {
     "data": {
      "text/plain": [
       "'chest'"
      ]
     },
     "execution_count": 59,
     "metadata": {},
     "output_type": "execute_result"
    }
   ],
   "source": [
    "class_labels[np.argmax(yp[0])]"
   ]
  },
  {
   "cell_type": "markdown",
   "metadata": {},
   "source": [
    "The above code was executed to confirm that the dataset was loaded accurately due to the high accuracy of the model. As we can see, the model can confirm the data."
   ]
  },
  {
   "cell_type": "markdown",
   "metadata": {},
   "source": [
    "## Random Undersampling of the dataset "
   ]
  },
  {
   "cell_type": "code",
   "execution_count": 142,
   "metadata": {
    "tags": []
   },
   "outputs": [],
   "source": [
    "rep_arr_df = pd.DataFrame(rep_arr)\n",
    "targ_df = pd.DataFrame(targ)\n",
    "targ_df.rename({0:'target'},axis=1,inplace = True)\n",
    "\n",
    "df = pd.concat([rep_arr_df, targ_df],axis=1)\n",
    "\n",
    "\n",
    "count_class_0, count_class_1, count_class_2 = df.target.value_counts()\n",
    "\n",
    "# # # Divide by class\n",
    "df_class_0 = df[df['target'] == 0]\n",
    "df_class_1 = df[df['target'] == 1]\n",
    "df_class_2 = df[df['target'] == 2]"
   ]
  },
  {
   "cell_type": "markdown",
   "metadata": {},
   "source": [
    "We will will use the `shoulder (2)` dataset as a reference in order to decrease the frequency of the other class features."
   ]
  },
  {
   "cell_type": "code",
   "execution_count": null,
   "metadata": {},
   "outputs": [],
   "source": [
    "# Undersample 0-class and concat the DataFrames of both class\n",
    "df_class_0_under = df_class_0.sample(count_class_2)\n",
    "df_class_1_under = df_class_1.sample(count_class_2)\n",
    "df_test_under = pd.concat([df_class_0_under, df_class_1_under,df_class_2], axis=0)\n",
    "\n",
    "print('Random under-sampling:')\n",
    "print(df_test_under.target.value_counts())"
   ]
  },
  {
   "cell_type": "markdown",
   "metadata": {},
   "source": [
    "And just like that, we have created a balanced sample set using undersampling method for our dataset. Let us use this as a reference and see how it would give us a different result."
   ]
  },
  {
   "cell_type": "markdown",
   "metadata": {},
   "source": [
    "## Random Forest"
   ]
  },
  {
   "cell_type": "code",
   "execution_count": null,
   "metadata": {},
   "outputs": [],
   "source": [
    "import pandas as pd\n",
    "df = pd.DataFrame(rep_arr)\n",
    "df['target'] = targ"
   ]
  },
  {
   "cell_type": "code",
   "execution_count": null,
   "metadata": {
    "tags": []
   },
   "outputs": [],
   "source": [
    "df"
   ]
  },
  {
   "cell_type": "code",
   "execution_count": null,
   "metadata": {},
   "outputs": [],
   "source": [
    "X = df.drop('target',axis='columns')\n",
    "y = df.target"
   ]
  },
  {
   "cell_type": "code",
   "execution_count": null,
   "metadata": {},
   "outputs": [],
   "source": [
    "from sklearn.model_selection import train_test_split\n",
    "X_train, X_test, y_train, y_test = train_test_split(X,y,test_size=0.3)"
   ]
  },
  {
   "cell_type": "code",
   "execution_count": null,
   "metadata": {},
   "outputs": [],
   "source": [
    "from sklearn.ensemble import RandomForestClassifier\n",
    "model = RandomForestClassifier(n_estimators=20)\n",
    "model.fit(X_train, y_train)"
   ]
  },
  {
   "cell_type": "code",
   "execution_count": null,
   "metadata": {},
   "outputs": [],
   "source": [
    "model.score(X_test, y_test)"
   ]
  },
  {
   "cell_type": "markdown",
   "metadata": {},
   "source": [
    "From the above score of the random forest classifier, the model has an accuracy of 99.2%. This is oddly high. "
   ]
  },
  {
   "cell_type": "code",
   "execution_count": null,
   "metadata": {},
   "outputs": [],
   "source": [
    "y_predicted = model.predict(X_test)"
   ]
  },
  {
   "cell_type": "markdown",
   "metadata": {},
   "source": [
    "## Confusion Matrix"
   ]
  },
  {
   "cell_type": "markdown",
   "metadata": {},
   "source": [
    "In order for us to visualize our the accuracy of the model's prediction, we have to use a confusion matrix to get a better perspective."
   ]
  },
  {
   "cell_type": "code",
   "execution_count": null,
   "metadata": {},
   "outputs": [],
   "source": [
    "from sklearn.metrics import confusion_matrix\n",
    "cm = confusion_matrix(y_test, y_predicted)\n",
    "cm"
   ]
  },
  {
   "cell_type": "code",
   "execution_count": null,
   "metadata": {},
   "outputs": [],
   "source": [
    "%matplotlib inline\n",
    "import matplotlib.pyplot as plt\n",
    "import seaborn as sn\n",
    "plt.figure(figsize=(10,7))\n",
    "sn.heatmap(cm, annot=True)\n",
    "plt.xlabel('Predicted')\n",
    "plt.ylabel('Truth')"
   ]
  },
  {
   "cell_type": "markdown",
   "metadata": {},
   "source": [
    "From what we can see below, the worst prediction the model made, was guessing that the passed input was a wrist instead of a shoulder 5 times."
   ]
  },
  {
   "cell_type": "markdown",
   "metadata": {},
   "source": [
    "## Using random Forest with our underbalanced dataset\n"
   ]
  },
  {
   "cell_type": "code",
   "execution_count": null,
   "metadata": {},
   "outputs": [],
   "source": [
    "X = df_test_under.drop('target',axis='columns')\n",
    "y = df_test_under.target"
   ]
  },
  {
   "cell_type": "code",
   "execution_count": null,
   "metadata": {},
   "outputs": [],
   "source": [
    "from sklearn.model_selection import train_test_split\n",
    "X_train, X_test, y_train, y_test = train_test_split(X,y,test_size=0.3)"
   ]
  },
  {
   "cell_type": "code",
   "execution_count": null,
   "metadata": {},
   "outputs": [],
   "source": [
    "from sklearn.ensemble import RandomForestClassifier\n",
    "model = RandomForestClassifier(n_estimators=20)\n",
    "model.fit(X_train, y_train)"
   ]
  },
  {
   "cell_type": "code",
   "execution_count": null,
   "metadata": {},
   "outputs": [],
   "source": [
    "model.score(X_test, y_test)"
   ]
  },
  {
   "cell_type": "markdown",
   "metadata": {},
   "source": [
    "From the above score of the random forest classifier, the model has an accuracy of 99.2%. This is oddly high. "
   ]
  },
  {
   "cell_type": "code",
   "execution_count": 159,
   "metadata": {},
   "outputs": [],
   "source": [
    "classes = [\"chest\",\"shoulder\",\"wrist\"]"
   ]
  },
  {
   "cell_type": "code",
   "execution_count": 33,
   "metadata": {},
   "outputs": [],
   "source": [
    "def plot_sample(X, y, index):\n",
    "    plt.figure(figsize = (15,2))\n",
    "    plt.imshow(X[index])\n",
    "    plt.xlabel(classes[y[index]])"
   ]
  },
  {
   "cell_type": "code",
   "execution_count": 164,
   "metadata": {},
   "outputs": [
    {
     "data": {
      "image/png": "[encoded data removed]",
      "text/plain": [
       "<Figure size 1080x144 with 1 Axes>"
      ]
     },
     "metadata": {
      "needs_background": "light"
     },
     "output_type": "display_data"
    }
   ],
   "source": [
    "plot_sample(X_test, y_test, 15)"
   ]
  },
  {
   "cell_type": "code",
   "execution_count": null,
   "metadata": {},
   "outputs": [],
   "source": [
    "y_predicted = model.predict(X_test)"
   ]
  },
  {
   "cell_type": "code",
   "execution_count": null,
   "metadata": {},
   "outputs": [],
   "source": [
    "y_classes = [np.argmax(element) for element in y_predicted]\n",
    "y_classes[:5]"
   ]
  },
  {
   "cell_type": "markdown",
   "metadata": {},
   "source": [
    "From what we can see from the two models that were ran on the x-ray dataset, they have a high level of accuracy when predicting the outcome of classifying the dataset. Another thing to note was that the accuracy of the model reduced slightly when we used the underbalanced dataset on the Random forest classifier model."
   ]
  },
  {
   "cell_type": "markdown",
   "metadata": {},
   "source": [
    "## Conclusion"
   ]
  },
  {
   "cell_type": "markdown",
   "metadata": {},
   "source": [
    "From what we have discovered about the two models discussed, it would seem that random forest gives a higher level of accuracy than CNN. Something to note about the model for the unaltered dataset is that it fails most of its prediction due to it having the least representation. From waht we can say about this project, this model is good enough to make an accurate prediction on any passed dataset."
   ]
  },
  {
   "cell_type": "markdown",
   "metadata": {
    "id": "nlqOHmxI7gu9"
   },
   "source": [
    "# References\n",
    "1. Chest x-ray repository from Kaggle: https://www.kaggle.com/tawsifurrahman/tuberculosis-tb-chest-xray-dataset. A colection of x-rays for tuberculosis identification.\n",
    "2. wrist x-ray images: https://www.kaggle.com/ardacanuckan/bone-classification-and-detection-dataset\n",
    "3. shoulder x-ray image from kaggle: https://www.kaggle.com/dryari5/shoulder-xray-classification"
   ]
  }
 ],
 "metadata": {
  "colab": {
   "name": "CMM 536 (PART 1).ipynb",
   "provenance": []
  },
  "hide_input": false,
  "kernelspec": {
   "display_name": "Python 3 (ipykernel)",
   "language": "python",
   "name": "python3"
  },
  "language_info": {
   "codemirror_mode": {
    "name": "ipython",
    "version": 3
   },
   "file_extension": ".py",
   "mimetype": "text/x-python",
   "name": "python",
   "nbconvert_exporter": "python",
   "pygments_lexer": "ipython3",
   "version": "3.9.7"
  },
  "toc-autonumbering": false,
  "toc-showcode": false,
  "toc-showmarkdowntxt": false,
  "varInspector": {
   "cols": {
    "lenName": 16,
    "lenType": 16,
    "lenVar": 40
   },
   "kernels_config": {
    "python": {
     "delete_cmd_postfix": "",
     "delete_cmd_prefix": "del ",
     "library": "var_list.py",
     "varRefreshCmd": "print(var_dic_list())"
    },
    "r": {
     "delete_cmd_postfix": ") ",
     "delete_cmd_prefix": "rm(",
     "library": "var_list.r",
     "varRefreshCmd": "cat(var_dic_list()) "
    }
   },
   "types_to_exclude": [
    "module",
    "function",
    "builtin_function_or_method",
    "instance",
    "_Feature"
   ],
   "window_display": false
  }
 },
 "nbformat": 4,
 "nbformat_minor": 4
}
